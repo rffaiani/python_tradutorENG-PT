{
  "nbformat": 4,
  "nbformat_minor": 0,
  "metadata": {
    "colab": {
      "name": "PythonTradutorENG-PT.ipynb",
      "provenance": [],
      "collapsed_sections": [],
      "authorship_tag": "ABX9TyOA4e5KAKQH0dTTiBpTE8vr"
    },
    "kernelspec": {
      "name": "python3",
      "display_name": "Python 3"
    }
  },
  "cells": [
    {
      "cell_type": "code",
      "metadata": {
        "id": "_BO_dgXZAsNc"
      },
      "source": [
        "pip install translate"
      ],
      "execution_count": null,
      "outputs": []
    },
    {
      "cell_type": "code",
      "metadata": {
        "colab": {
          "base_uri": "https://localhost:8080/"
        },
        "id": "DwpdmmCBAuUk",
        "outputId": "af75ef23-cfb8-4aa0-d35c-682f80d7348e"
      },
      "source": [
        "from translate import Translator\r\n",
        "from time import sleep \r\n",
        "\r\n",
        "x = Translator(from_lang=\"english\", to_lang=\"Portuguese\")\r\n",
        "\r\n",
        "resposta = x.translate(input(\"Entre com a palavra para traduzir do inglês para português: \"))\r\n",
        "\r\n",
        "print(\"Processando...\")\r\n",
        "sleep(3)\r\n",
        "print(resposta.upper())\r\n"
      ],
      "execution_count": 13,
      "outputs": [
        {
          "output_type": "stream",
          "text": [
            "Entre com a palavra para traduzir do inglês para português: rainbow\n",
            "Processando...\n",
            "ARCO-ÍRIS\n"
          ],
          "name": "stdout"
        }
      ]
    }
  ]
}